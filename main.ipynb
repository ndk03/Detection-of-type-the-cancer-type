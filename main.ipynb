{
 "cells": [
  {
   "cell_type": "markdown",
   "metadata": {},
   "source": [
    "### Importing all the neccesary libraries at once"
   ]
  },
  {
   "cell_type": "code",
   "execution_count": 1,
   "metadata": {},
   "outputs": [],
   "source": [
    "import numpy as np\n",
    "import pandas as pd\n",
    "import matplotlib.pyplot as plt\n",
    "from sklearn.metrics import accuracy_score\n",
    "from sklearn.metrics import confusion_matrix\n",
    "from sklearn.metrics import recall_score\n",
    "from sklearn.metrics import precision_score"
   ]
  },
  {
   "cell_type": "markdown",
   "metadata": {},
   "source": [
    "### Loading the data\n",
    "Assigning the column names for the data for convenience.The names are included in the column_names list.\n",
    "The Data is loaded into \"dataset\""
   ]
  },
  {
   "cell_type": "code",
   "execution_count": 2,
   "metadata": {},
   "outputs": [],
   "source": [
    "column_names = ['ID','Diagnosis','feature1','feature2','feature3','feature4','feature5','feature6','feature7','feature8','feature9','feature10','feature11','feature12','feature13','feature14','feature15','feature16','feature17','feature18','feature19','feature20','feature21','feature22','feature23','feature24','feature25','feature26','feature27','feature28','feature29','feature30']\n",
    "dataset = pd.read_csv('wdbc.dataset',names = column_names)"
   ]
  },
  {
   "cell_type": "code",
   "execution_count": 3,
   "metadata": {},
   "outputs": [
    {
     "data": {
      "text/html": [
       "<div>\n",
       "<style scoped>\n",
       "    .dataframe tbody tr th:only-of-type {\n",
       "        vertical-align: middle;\n",
       "    }\n",
       "\n",
       "    .dataframe tbody tr th {\n",
       "        vertical-align: top;\n",
       "    }\n",
       "\n",
       "    .dataframe thead th {\n",
       "        text-align: right;\n",
       "    }\n",
       "</style>\n",
       "<table border=\"1\" class=\"dataframe\">\n",
       "  <thead>\n",
       "    <tr style=\"text-align: right;\">\n",
       "      <th></th>\n",
       "      <th>ID</th>\n",
       "      <th>Diagnosis</th>\n",
       "      <th>feature1</th>\n",
       "      <th>feature2</th>\n",
       "      <th>feature3</th>\n",
       "      <th>feature4</th>\n",
       "      <th>feature5</th>\n",
       "      <th>feature6</th>\n",
       "      <th>feature7</th>\n",
       "      <th>feature8</th>\n",
       "      <th>...</th>\n",
       "      <th>feature21</th>\n",
       "      <th>feature22</th>\n",
       "      <th>feature23</th>\n",
       "      <th>feature24</th>\n",
       "      <th>feature25</th>\n",
       "      <th>feature26</th>\n",
       "      <th>feature27</th>\n",
       "      <th>feature28</th>\n",
       "      <th>feature29</th>\n",
       "      <th>feature30</th>\n",
       "    </tr>\n",
       "  </thead>\n",
       "  <tbody>\n",
       "    <tr>\n",
       "      <th>0</th>\n",
       "      <td>842302</td>\n",
       "      <td>M</td>\n",
       "      <td>17.99</td>\n",
       "      <td>10.38</td>\n",
       "      <td>122.80</td>\n",
       "      <td>1001.0</td>\n",
       "      <td>0.11840</td>\n",
       "      <td>0.27760</td>\n",
       "      <td>0.3001</td>\n",
       "      <td>0.14710</td>\n",
       "      <td>...</td>\n",
       "      <td>25.38</td>\n",
       "      <td>17.33</td>\n",
       "      <td>184.60</td>\n",
       "      <td>2019.0</td>\n",
       "      <td>0.1622</td>\n",
       "      <td>0.6656</td>\n",
       "      <td>0.7119</td>\n",
       "      <td>0.2654</td>\n",
       "      <td>0.4601</td>\n",
       "      <td>0.11890</td>\n",
       "    </tr>\n",
       "    <tr>\n",
       "      <th>1</th>\n",
       "      <td>842517</td>\n",
       "      <td>M</td>\n",
       "      <td>20.57</td>\n",
       "      <td>17.77</td>\n",
       "      <td>132.90</td>\n",
       "      <td>1326.0</td>\n",
       "      <td>0.08474</td>\n",
       "      <td>0.07864</td>\n",
       "      <td>0.0869</td>\n",
       "      <td>0.07017</td>\n",
       "      <td>...</td>\n",
       "      <td>24.99</td>\n",
       "      <td>23.41</td>\n",
       "      <td>158.80</td>\n",
       "      <td>1956.0</td>\n",
       "      <td>0.1238</td>\n",
       "      <td>0.1866</td>\n",
       "      <td>0.2416</td>\n",
       "      <td>0.1860</td>\n",
       "      <td>0.2750</td>\n",
       "      <td>0.08902</td>\n",
       "    </tr>\n",
       "    <tr>\n",
       "      <th>2</th>\n",
       "      <td>84300903</td>\n",
       "      <td>M</td>\n",
       "      <td>19.69</td>\n",
       "      <td>21.25</td>\n",
       "      <td>130.00</td>\n",
       "      <td>1203.0</td>\n",
       "      <td>0.10960</td>\n",
       "      <td>0.15990</td>\n",
       "      <td>0.1974</td>\n",
       "      <td>0.12790</td>\n",
       "      <td>...</td>\n",
       "      <td>23.57</td>\n",
       "      <td>25.53</td>\n",
       "      <td>152.50</td>\n",
       "      <td>1709.0</td>\n",
       "      <td>0.1444</td>\n",
       "      <td>0.4245</td>\n",
       "      <td>0.4504</td>\n",
       "      <td>0.2430</td>\n",
       "      <td>0.3613</td>\n",
       "      <td>0.08758</td>\n",
       "    </tr>\n",
       "    <tr>\n",
       "      <th>3</th>\n",
       "      <td>84348301</td>\n",
       "      <td>M</td>\n",
       "      <td>11.42</td>\n",
       "      <td>20.38</td>\n",
       "      <td>77.58</td>\n",
       "      <td>386.1</td>\n",
       "      <td>0.14250</td>\n",
       "      <td>0.28390</td>\n",
       "      <td>0.2414</td>\n",
       "      <td>0.10520</td>\n",
       "      <td>...</td>\n",
       "      <td>14.91</td>\n",
       "      <td>26.50</td>\n",
       "      <td>98.87</td>\n",
       "      <td>567.7</td>\n",
       "      <td>0.2098</td>\n",
       "      <td>0.8663</td>\n",
       "      <td>0.6869</td>\n",
       "      <td>0.2575</td>\n",
       "      <td>0.6638</td>\n",
       "      <td>0.17300</td>\n",
       "    </tr>\n",
       "    <tr>\n",
       "      <th>4</th>\n",
       "      <td>84358402</td>\n",
       "      <td>M</td>\n",
       "      <td>20.29</td>\n",
       "      <td>14.34</td>\n",
       "      <td>135.10</td>\n",
       "      <td>1297.0</td>\n",
       "      <td>0.10030</td>\n",
       "      <td>0.13280</td>\n",
       "      <td>0.1980</td>\n",
       "      <td>0.10430</td>\n",
       "      <td>...</td>\n",
       "      <td>22.54</td>\n",
       "      <td>16.67</td>\n",
       "      <td>152.20</td>\n",
       "      <td>1575.0</td>\n",
       "      <td>0.1374</td>\n",
       "      <td>0.2050</td>\n",
       "      <td>0.4000</td>\n",
       "      <td>0.1625</td>\n",
       "      <td>0.2364</td>\n",
       "      <td>0.07678</td>\n",
       "    </tr>\n",
       "  </tbody>\n",
       "</table>\n",
       "<p>5 rows × 32 columns</p>\n",
       "</div>"
      ],
      "text/plain": [
       "         ID Diagnosis  feature1  feature2  feature3  feature4  feature5  \\\n",
       "0    842302         M     17.99     10.38    122.80    1001.0   0.11840   \n",
       "1    842517         M     20.57     17.77    132.90    1326.0   0.08474   \n",
       "2  84300903         M     19.69     21.25    130.00    1203.0   0.10960   \n",
       "3  84348301         M     11.42     20.38     77.58     386.1   0.14250   \n",
       "4  84358402         M     20.29     14.34    135.10    1297.0   0.10030   \n",
       "\n",
       "   feature6  feature7  feature8    ...      feature21  feature22  feature23  \\\n",
       "0   0.27760    0.3001   0.14710    ...          25.38      17.33     184.60   \n",
       "1   0.07864    0.0869   0.07017    ...          24.99      23.41     158.80   \n",
       "2   0.15990    0.1974   0.12790    ...          23.57      25.53     152.50   \n",
       "3   0.28390    0.2414   0.10520    ...          14.91      26.50      98.87   \n",
       "4   0.13280    0.1980   0.10430    ...          22.54      16.67     152.20   \n",
       "\n",
       "   feature24  feature25  feature26  feature27  feature28  feature29  feature30  \n",
       "0     2019.0     0.1622     0.6656     0.7119     0.2654     0.4601    0.11890  \n",
       "1     1956.0     0.1238     0.1866     0.2416     0.1860     0.2750    0.08902  \n",
       "2     1709.0     0.1444     0.4245     0.4504     0.2430     0.3613    0.08758  \n",
       "3      567.7     0.2098     0.8663     0.6869     0.2575     0.6638    0.17300  \n",
       "4     1575.0     0.1374     0.2050     0.4000     0.1625     0.2364    0.07678  \n",
       "\n",
       "[5 rows x 32 columns]"
      ]
     },
     "execution_count": 3,
     "metadata": {},
     "output_type": "execute_result"
    }
   ],
   "source": [
    "dataset.head()"
   ]
  },
  {
   "cell_type": "markdown",
   "metadata": {},
   "source": [
    "---\n",
    "The various datatypes in the data have to be checked and if there are variations present all have to be converted into a same form"
   ]
  },
  {
   "cell_type": "code",
   "execution_count": 4,
   "metadata": {},
   "outputs": [
    {
     "name": "stdout",
     "output_type": "stream",
     "text": [
      "<class 'pandas.core.frame.DataFrame'>\n",
      "RangeIndex: 569 entries, 0 to 568\n",
      "Data columns (total 32 columns):\n",
      "ID           569 non-null int64\n",
      "Diagnosis    569 non-null object\n",
      "feature1     569 non-null float64\n",
      "feature2     569 non-null float64\n",
      "feature3     569 non-null float64\n",
      "feature4     569 non-null float64\n",
      "feature5     569 non-null float64\n",
      "feature6     569 non-null float64\n",
      "feature7     569 non-null float64\n",
      "feature8     569 non-null float64\n",
      "feature9     569 non-null float64\n",
      "feature10    569 non-null float64\n",
      "feature11    569 non-null float64\n",
      "feature12    569 non-null float64\n",
      "feature13    569 non-null float64\n",
      "feature14    569 non-null float64\n",
      "feature15    569 non-null float64\n",
      "feature16    569 non-null float64\n",
      "feature17    569 non-null float64\n",
      "feature18    569 non-null float64\n",
      "feature19    569 non-null float64\n",
      "feature20    569 non-null float64\n",
      "feature21    569 non-null float64\n",
      "feature22    569 non-null float64\n",
      "feature23    569 non-null float64\n",
      "feature24    569 non-null float64\n",
      "feature25    569 non-null float64\n",
      "feature26    569 non-null float64\n",
      "feature27    569 non-null float64\n",
      "feature28    569 non-null float64\n",
      "feature29    569 non-null float64\n",
      "feature30    569 non-null float64\n",
      "dtypes: float64(30), int64(1), object(1)\n",
      "memory usage: 142.3+ KB\n"
     ]
    }
   ],
   "source": [
    "dataset.info()"
   ]
  },
  {
   "cell_type": "markdown",
   "metadata": {},
   "source": [
    "---\n",
    "The data has to be checked if it has any undefined values"
   ]
  },
  {
   "cell_type": "code",
   "execution_count": 5,
   "metadata": {},
   "outputs": [
    {
     "data": {
      "text/plain": [
       "ID           0\n",
       "Diagnosis    0\n",
       "feature1     0\n",
       "feature2     0\n",
       "feature3     0\n",
       "feature4     0\n",
       "feature5     0\n",
       "feature6     0\n",
       "feature7     0\n",
       "feature8     0\n",
       "feature9     0\n",
       "feature10    0\n",
       "feature11    0\n",
       "feature12    0\n",
       "feature13    0\n",
       "feature14    0\n",
       "feature15    0\n",
       "feature16    0\n",
       "feature17    0\n",
       "feature18    0\n",
       "feature19    0\n",
       "feature20    0\n",
       "feature21    0\n",
       "feature22    0\n",
       "feature23    0\n",
       "feature24    0\n",
       "feature25    0\n",
       "feature26    0\n",
       "feature27    0\n",
       "feature28    0\n",
       "feature29    0\n",
       "feature30    0\n",
       "dtype: int64"
      ]
     },
     "execution_count": 5,
     "metadata": {},
     "output_type": "execute_result"
    }
   ],
   "source": [
    "# dataset.isnull().sum()\n",
    "dataset.isna().sum()"
   ]
  },
  {
   "cell_type": "markdown",
   "metadata": {},
   "source": [
    "---\n",
    "* The column named ID is not useful in making prediction hence it can be dropped\n",
    "* The diagnosis values is an object type hence it has to be converted to a type compatible for comparision\n"
   ]
  },
  {
   "cell_type": "code",
   "execution_count": 6,
   "metadata": {},
   "outputs": [],
   "source": [
    "dataset.drop(['ID'], axis = 1)\n",
    "dataset['Diagnosis'] = dataset['Diagnosis'].map({'M':1,'B':0})"
   ]
  },
  {
   "cell_type": "markdown",
   "metadata": {},
   "source": [
    "### Separating the data into input and the target"
   ]
  },
  {
   "cell_type": "code",
   "execution_count": 7,
   "metadata": {},
   "outputs": [],
   "source": [
    "y = dataset['Diagnosis']\n",
    "x = dataset.drop(['Diagnosis'],axis = 1)"
   ]
  },
  {
   "cell_type": "markdown",
   "metadata": {},
   "source": [
    "### Normalization"
   ]
  },
  {
   "cell_type": "code",
   "execution_count": 8,
   "metadata": {},
   "outputs": [],
   "source": [
    "norm_x = (x - np.min(x))/(np.max(x)-np.min(x)).values"
   ]
  },
  {
   "cell_type": "markdown",
   "metadata": {},
   "source": [
    "### Splitting the data\n",
    "* The data is split into train,test and validatoin data(80%,10%,10% respectively)"
   ]
  },
  {
   "cell_type": "code",
   "execution_count": 9,
   "metadata": {},
   "outputs": [],
   "source": [
    "from sklearn.model_selection import train_test_split\n",
    "x_train,x_test,y_train,y_test = train_test_split(norm_x,y,test_size = 0.2,random_state = 1)\n",
    "\n",
    "x_test,x_val,y_test,y_val = train_test_split(x_test,y_test,test_size = 0.5,random_state = 1)\n",
    "\n",
    "###\n",
    "\n",
    "y_train = y_train.values\n",
    "y_test = y_test.values\n",
    "y_val = y_val.values\n",
    "\n"
   ]
  },
  {
   "cell_type": "markdown",
   "metadata": {},
   "source": [
    "### Initialising the weights to 0.01"
   ]
  },
  {
   "cell_type": "code",
   "execution_count": 10,
   "metadata": {},
   "outputs": [],
   "source": [
    "def initialize_weights_bias(n_features):\n",
    "    w = np.zeros((1,n_features))\n",
    "    b = 0.0\n",
    "    return w,b"
   ]
  },
  {
   "cell_type": "markdown",
   "metadata": {},
   "source": [
    "### Definition of the sigmoid function"
   ]
  },
  {
   "cell_type": "code",
   "execution_count": 11,
   "metadata": {},
   "outputs": [],
   "source": [
    "def sigmoid(z):\n",
    "    result = 1/(1+np.exp(-z))\n",
    "    return result"
   ]
  },
  {
   "cell_type": "markdown",
   "metadata": {},
   "source": [
    "### Calculation of the costs and the gradient"
   ]
  },
  {
   "cell_type": "code",
   "execution_count": 12,
   "metadata": {},
   "outputs": [],
   "source": [
    "def optimise(w,b,X,Y):\n",
    "    m = X.shape[0]\n",
    "    result = sigmoid(np.dot(w,X.T)+b)\n",
    "    Y_T = Y.T\n",
    "    #calculating the cost\n",
    "    cost = (-1/m)*(np.sum((Y_T*np.log(result)) + ((1-Y_T)*(np.log(1-result)))))\n",
    "    \n",
    "    #calculating the gradient\n",
    "    dw = (1/m)*(np.dot(X.T,(result - Y.T).T))\n",
    "    db = (1/m)*(np.sum(result - Y.T))\n",
    "    \n",
    "    values = {\"dw\":dw,\"db\":db}\n",
    "    \n",
    "    return values,cost"
   ]
  },
  {
   "cell_type": "markdown",
   "metadata": {},
   "source": [
    "### Training and validation \n",
    "* The model is trained on the training data\n",
    "* The weights get updated in each epoch\n",
    "* At the end of each epoch the model is validated\n",
    "* Finally, the graph is plotted loss and accuracy vs epochs"
   ]
  },
  {
   "cell_type": "code",
   "execution_count": 13,
   "metadata": {},
   "outputs": [],
   "source": [
    "def model_predict(w,b,X,Y, alpha, epochs):\n",
    "    costs = []\n",
    "    index = []\n",
    "    train_acc = []\n",
    "    val_acc = []\n",
    "    val_loss = []\n",
    "    for i in range(epochs):\n",
    "        grad, cost = optimise(w,b,X,Y)\n",
    "        dw = grad[\"dw\"]\n",
    "        db = grad[\"db\"]\n",
    "        \n",
    "        w = w - (alpha * (dw.T))\n",
    "        b = b - (alpha * db)\n",
    "        costs.append(cost)\n",
    "        index.append(i)\n",
    "        #calculating training accuracy\n",
    "        predt = sigmoid(np.dot(w,X.T)+b)\n",
    "        predClass = predict(predt,m_train)\n",
    "#         print(\"Training loss:\", cost)\n",
    "#         print(\"Training Accuracy:\", accuracy_score(predClass.T,y_train) )\n",
    "        train_acc.append(accuracy_score(predClass.T,y_train))\n",
    "        \n",
    "        #calculating validation accuracy and loss\n",
    "        predv = sigmoid(np.dot(w,x_val.T)+b)\n",
    "        m = x_val.shape[0]\n",
    "        Y_T = y_val.T\n",
    "        loss = (-1/m)*(np.sum((Y_T*np.log(predv)) + ((1-Y_T)*(np.log(1-predv)))))\n",
    "        predValClass = predict(predv,x_val.shape[0])\n",
    "        val_acc.append(accuracy_score(predValClass.T,y_val))\n",
    "        val_loss.append(loss)\n",
    "        if (i % 50 == 0):\n",
    "            print(\"training loss: {} Validation loss: {}\".format(cost,loss))\n",
    "\n",
    "#         print(\"Validation Loss:\", loss)\n",
    "#         print(\"Validation Accuracy\",accuracy_score(predValClass.T,y_val))\n",
    "        \n",
    "        \n",
    "        #calculating validation loss\n",
    "#         m = x_val.shape[0]\n",
    "#         Y_T = y_val\n",
    "#         loss = (-1/m)*(np.sum((Y_T*np.log(predv))) + ((1-Y_T)*(np.log(1-predv))))\n",
    "#         val_loss.append(loss[:][0])\n",
    "# #         print(loss)\n",
    "        \n",
    "        \n",
    "#     print(\"Final training loss = \",costs[-1])\n",
    "       \n",
    "#     print(\"Final validation loss = \",val_loss[-1]) \n",
    "#     print(\"Final validation accuracy = \",val_acc[-1])    \n",
    "    coeff = {\"w\": w,\"b\":b}\n",
    "    gradient = {\"dw\": dw, \"db\": db}     \n",
    "    \n",
    "    \n",
    "    plt.plot(index,costs)\n",
    "    plt.plot(index,val_loss)\n",
    "#     plt.xticks(index,rotation = 'vertical')\n",
    "    plt.title('Model Loss')\n",
    "    plt.xlabel(\"Number of epochs\")\n",
    "    plt.ylabel(\"Loss\")\n",
    "    plt.legend(['train','val'], loc = 'upper left')\n",
    "    plt.show()\n",
    "    \n",
    "    plt.plot(index,train_acc)\n",
    "    plt.plot(index,val_acc)\n",
    "    plt.title('Model Accuracy')\n",
    "#     plt.xticks(index,rotation = 'vertical')\n",
    "    plt.xlabel(\"Number of epochs\")\n",
    "    plt.ylabel(\"Accuracy\")\n",
    "    plt.legend(['train','Val'], loc = 'upper left')\n",
    "    \n",
    "    plt.show()\n",
    "    \n",
    "#     print(\"[training loss =  \",costs[-1])       \n",
    "#     print(\"validation loss = \",val_loss[-1]) \n",
    "    print(\"validation accuracy = \",val_acc[-1])\n",
    " \n",
    "             \n",
    "    \n",
    "    \n",
    "    return coeff,gradient,costs"
   ]
  },
  {
   "cell_type": "markdown",
   "metadata": {},
   "source": [
    "#### Since this is a two class classification problem the output has to be converted to either of one class. This is done by utilising a threshold value."
   ]
  },
  {
   "cell_type": "code",
   "execution_count": 14,
   "metadata": {},
   "outputs": [],
   "source": [
    "def predict(final_pred, m):\n",
    "    y_pred = np.zeros((1,m))\n",
    "    for i in range(final_pred.shape[1]):\n",
    "        if final_pred[0][i]> 0.5:\n",
    "            y_pred[0][i] = 1\n",
    "    return y_pred"
   ]
  },
  {
   "cell_type": "code",
   "execution_count": 15,
   "metadata": {},
   "outputs": [
    {
     "name": "stdout",
     "output_type": "stream",
     "text": [
      "training loss: 0.6931471805599453 Validation loss: 0.6893410215827553\n",
      "training loss: 0.5688452981515226 Validation loss: 0.5706828468790703\n",
      "training loss: 0.4880283970086455 Validation loss: 0.4986248950760241\n",
      "training loss: 0.43203320402760015 Validation loss: 0.4481465526696395\n",
      "training loss: 0.39118654842106176 Validation loss: 0.4109927276435283\n",
      "training loss: 0.3600896435625894 Validation loss: 0.3825096535524149\n",
      "training loss: 0.33558996561785837 Validation loss: 0.35994161596875685\n",
      "training loss: 0.3157493342588956 Validation loss: 0.34157670615723373\n",
      "training loss: 0.29931849040765174 Validation loss: 0.3263024701384527\n",
      "training loss: 0.28545851711200504 Validation loss: 0.3133669415907505\n",
      "training loss: 0.27358594548850884 Validation loss: 0.3022443400717694\n",
      "training loss: 0.26328261803912756 Validation loss: 0.2925562276840564\n",
      "training loss: 0.25424103077575666 Validation loss: 0.28402334174776633\n",
      "training loss: 0.2462299564933305 Validation loss: 0.2764351055103913\n",
      "training loss: 0.2390721158287227 Validation loss: 0.26962971416369647\n",
      "training loss: 0.23262925543011792 Validation loss: 0.26348076273802024\n",
      "training loss: 0.22679192181166163 Validation loss: 0.25788804367386675\n",
      "training loss: 0.2214722945344171 Validation loss: 0.2527710740288174\n",
      "training loss: 0.2165990619752501 Validation loss: 0.24806445287121032\n",
      "training loss: 0.21211369115361087 Validation loss: 0.2437144724531125\n"
     ]
    },
    {
     "data": {
      "image/png": "[encoded data removed]",
      "text/plain": [
       "<Figure size 432x288 with 1 Axes>"
      ]
     },
     "metadata": {},
     "output_type": "display_data"
    },
    {
     "data": {
      "image/png": "[encoded data removed]",
      "text/plain": [
       "<Figure size 432x288 with 1 Axes>"
      ]
     },
     "metadata": {},
     "output_type": "display_data"
    },
    {
     "name": "stdout",
     "output_type": "stream",
     "text": [
      "validation accuracy =  0.9473684210526315\n",
      "Training accuracy:  0.9406593406593406\n",
      "Test accuracy:  0.9473684210526315\n",
      "Precision score:  0.8846153846153846\n",
      "Recall Score: 1.0\n",
      "True negatives: 31\n",
      "False positives: 0\n",
      "False negatives: 3\n",
      "True positives: 23\n"
     ]
    }
   ],
   "source": [
    "n_features = x_train.shape[1]\n",
    "# print(\"Number of features is :\",n_features)\n",
    "w,b = initialize_weights_bias(n_features)\n",
    "# index = []\n",
    "#Gradient Descent\n",
    "m_train = x_train.shape[0]\n",
    "m_test = x_test.shape[0]\n",
    "coeff,gradient,costs = model_predict(w,b,x_train,y_train,0.1,1000)\n",
    "w = coeff[\"w\"]\n",
    "b = coeff[\"b\"]\n",
    "\n",
    "final_train_prediction = sigmoid(np.dot(w,x_train.T)+b)\n",
    "final_test_prediction  = sigmoid(np.dot(w,x_test.T)+b)\n",
    "\n",
    "# m_train = x_train.shape[0]\n",
    "# m_test = x_test.shape[0]\n",
    "\n",
    "y_train_predictions = predict(final_train_prediction, m_train)\n",
    "print('Training accuracy: ',accuracy_score(y_train_predictions.T,y_train))\n",
    "\n",
    "y_test_predictions = predict(final_test_prediction, m_test)\n",
    "print('Test accuracy: ',accuracy_score(y_test_predictions.T,y_test))\n",
    "\n",
    "print('Precision score: ',precision_score(y_test_predictions.T,y_test))\n",
    "\n",
    "print('Recall Score:',recall_score(y_test_predictions.T,y_test))\n",
    "\n",
    "\n",
    "tn,fp,fn,tp  = confusion_matrix(y_test.flatten(),y_test_predictions.T,labels = None,sample_weight= None).ravel()\n",
    "print('True negatives:',tn)\n",
    "print('False positives:',fp)\n",
    "print('False negatives:',fn)\n",
    "print('True positives:',tp)"
   ]
  },
  {
   "cell_type": "code",
   "execution_count": null,
   "metadata": {},
   "outputs": [],
   "source": []
  }
 ],
 "metadata": {
  "kernelspec": {
   "display_name": "Python 3",
   "language": "python",
   "name": "python3"
  },
  "language_info": {
   "codemirror_mode": {
    "name": "ipython",
    "version": 3
   },
   "file_extension": ".py",
   "mimetype": "text/x-python",
   "name": "python",
   "nbconvert_exporter": "python",
   "pygments_lexer": "ipython3",
   "version": "3.6.5"
  }
 },
 "nbformat": 4,
 "nbformat_minor": 2
}
